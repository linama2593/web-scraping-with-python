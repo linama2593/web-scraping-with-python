{
    "cells": [
        {
            "cell_type": "markdown",
            "metadata": {},
            "source": [
                "# Explore here\n",
                "\n",
                "It's recommended to use this notebook for exploration purposes."
            ]
        },
        {
            "cell_type": "code",
            "execution_count": 4,
            "metadata": {},
            "outputs": [
                {
                    "name": "stdout",
                    "output_type": "stream",
                    "text": [
                        "Request Exception: 403 Client Error: Forbidden for url: https://www.macrotrends.net/stocks/charts/TSLA/tesla/revenue\n"
                    ]
                }
            ],
            "source": [
                "#dont forget to: pip install lxml otherwise code will not run\n",
                "import pandas as pd\n",
                "import requests\n",
                "import time\n",
                "from bs4 import BeautifulSoup\n",
                "\n",
                "#storing URL\n",
                "tesla_url='https://www.macrotrends.net/stocks/charts/TSLA/tesla/revenue'\n",
                "\n",
                "#Creating request\n",
                "time.sleep(20) #20 sec delay before making the request to not overload server\n",
                "try:\n",
                "    response=requests.get(tesla_url)\n",
                "    response.raise_for_status()\n",
                "    tesla_raw=BeautifulSoup(response.text, 'html')\n",
                "\n",
                "#handles errors specific to the request \n",
                "except requests.exceptions.RequestException as e:\n",
                "  print(f\"Request Exception: {e}\") #prints the error\n",
                "  header={'User-Agent':\"Mozilla/5.0 (Windows NT 10.0; Win64; x64) AppleWebKit/537.36 (KHTML, like Gecko) Chrome/91.0.4472.124 Safari/537.36\"}\n",
                "  response=requests.get(tesla_url, headers=header)\n",
                "  tesla_raw=BeautifulSoup(response.text, 'html')\n",
                "\n",
                "# Prints other exceptions that may occur during parsing or processing\n",
                "except Exception as e:\n",
                "    print(f\"Other Exception: {e}\")"
            ]
        },
        {
            "cell_type": "code",
            "execution_count": 8,
            "metadata": {},
            "outputs": [
                {
                    "ename": "ImportError",
                    "evalue": "lxml not found, please install it",
                    "output_type": "error",
                    "traceback": [
                        "\u001b[0;31m---------------------------------------------------------------------------\u001b[0m",
                        "\u001b[0;31mImportError\u001b[0m                               Traceback (most recent call last)",
                        "\u001b[1;32m/workspaces/web-scraping-with-python/src/explore.ipynb Cell 3\u001b[0m line \u001b[0;36m1\n\u001b[1;32m      <a href='vscode-notebook-cell://codespaces%2Bexpert-meme-5gqr946574gw37wr7/workspaces/web-scraping-with-python/src/explore.ipynb#W4sdnNjb2RlLXJlbW90ZQ%3D%3D?line=7'>8</a>\u001b[0m       \u001b[39mbreak\u001b[39;00m \u001b[39m#stops the code once it finds the table\u001b[39;00m\n\u001b[1;32m     <a href='vscode-notebook-cell://codespaces%2Bexpert-meme-5gqr946574gw37wr7/workspaces/web-scraping-with-python/src/explore.ipynb#W4sdnNjb2RlLXJlbW90ZQ%3D%3D?line=9'>10</a>\u001b[0m \u001b[39m#storing result as dataframe\u001b[39;00m\n\u001b[0;32m---> <a href='vscode-notebook-cell://codespaces%2Bexpert-meme-5gqr946574gw37wr7/workspaces/web-scraping-with-python/src/explore.ipynb#W4sdnNjb2RlLXJlbW90ZQ%3D%3D?line=10'>11</a>\u001b[0m tesla_qrev\u001b[39m=\u001b[39mpd\u001b[39m.\u001b[39;49mread_html(\u001b[39mstr\u001b[39;49m(tesla_data))[\u001b[39m0\u001b[39m]\n\u001b[1;32m     <a href='vscode-notebook-cell://codespaces%2Bexpert-meme-5gqr946574gw37wr7/workspaces/web-scraping-with-python/src/explore.ipynb#W4sdnNjb2RlLXJlbW90ZQ%3D%3D?line=11'>12</a>\u001b[0m tesla_qrev\u001b[39m.\u001b[39mcolumns\u001b[39m=\u001b[39m[\u001b[39m'\u001b[39m\u001b[39mquater\u001b[39m\u001b[39m'\u001b[39m, \u001b[39m'\u001b[39m\u001b[39mrevenue\u001b[39m\u001b[39m'\u001b[39m] \u001b[39m#renames columns\u001b[39;00m\n\u001b[1;32m     <a href='vscode-notebook-cell://codespaces%2Bexpert-meme-5gqr946574gw37wr7/workspaces/web-scraping-with-python/src/explore.ipynb#W4sdnNjb2RlLXJlbW90ZQ%3D%3D?line=12'>13</a>\u001b[0m tesla_qrev[\u001b[39m'\u001b[39m\u001b[39mquater\u001b[39m\u001b[39m'\u001b[39m]\u001b[39m=\u001b[39mpd\u001b[39m.\u001b[39mto_datetime(tesla_qrev[\u001b[39m'\u001b[39m\u001b[39mquater\u001b[39m\u001b[39m'\u001b[39m]) \u001b[39m#sets date format\u001b[39;00m\n",
                        "File \u001b[0;32m~/.local/lib/python3.11/site-packages/pandas/util/_decorators.py:311\u001b[0m, in \u001b[0;36mdeprecate_nonkeyword_arguments.<locals>.decorate.<locals>.wrapper\u001b[0;34m(*args, **kwargs)\u001b[0m\n\u001b[1;32m    305\u001b[0m \u001b[39mif\u001b[39;00m \u001b[39mlen\u001b[39m(args) \u001b[39m>\u001b[39m num_allow_args:\n\u001b[1;32m    306\u001b[0m     warnings\u001b[39m.\u001b[39mwarn(\n\u001b[1;32m    307\u001b[0m         msg\u001b[39m.\u001b[39mformat(arguments\u001b[39m=\u001b[39marguments),\n\u001b[1;32m    308\u001b[0m         \u001b[39mFutureWarning\u001b[39;00m,\n\u001b[1;32m    309\u001b[0m         stacklevel\u001b[39m=\u001b[39mstacklevel,\n\u001b[1;32m    310\u001b[0m     )\n\u001b[0;32m--> 311\u001b[0m \u001b[39mreturn\u001b[39;00m func(\u001b[39m*\u001b[39;49margs, \u001b[39m*\u001b[39;49m\u001b[39m*\u001b[39;49mkwargs)\n",
                        "File \u001b[0;32m~/.local/lib/python3.11/site-packages/pandas/io/html.py:1113\u001b[0m, in \u001b[0;36mread_html\u001b[0;34m(io, match, flavor, header, index_col, skiprows, attrs, parse_dates, thousands, encoding, decimal, converters, na_values, keep_default_na, displayed_only)\u001b[0m\n\u001b[1;32m   1109\u001b[0m validate_header_arg(header)\n\u001b[1;32m   1111\u001b[0m io \u001b[39m=\u001b[39m stringify_path(io)\n\u001b[0;32m-> 1113\u001b[0m \u001b[39mreturn\u001b[39;00m _parse(\n\u001b[1;32m   1114\u001b[0m     flavor\u001b[39m=\u001b[39;49mflavor,\n\u001b[1;32m   1115\u001b[0m     io\u001b[39m=\u001b[39;49mio,\n\u001b[1;32m   1116\u001b[0m     match\u001b[39m=\u001b[39;49mmatch,\n\u001b[1;32m   1117\u001b[0m     header\u001b[39m=\u001b[39;49mheader,\n\u001b[1;32m   1118\u001b[0m     index_col\u001b[39m=\u001b[39;49mindex_col,\n\u001b[1;32m   1119\u001b[0m     skiprows\u001b[39m=\u001b[39;49mskiprows,\n\u001b[1;32m   1120\u001b[0m     parse_dates\u001b[39m=\u001b[39;49mparse_dates,\n\u001b[1;32m   1121\u001b[0m     thousands\u001b[39m=\u001b[39;49mthousands,\n\u001b[1;32m   1122\u001b[0m     attrs\u001b[39m=\u001b[39;49mattrs,\n\u001b[1;32m   1123\u001b[0m     encoding\u001b[39m=\u001b[39;49mencoding,\n\u001b[1;32m   1124\u001b[0m     decimal\u001b[39m=\u001b[39;49mdecimal,\n\u001b[1;32m   1125\u001b[0m     converters\u001b[39m=\u001b[39;49mconverters,\n\u001b[1;32m   1126\u001b[0m     na_values\u001b[39m=\u001b[39;49mna_values,\n\u001b[1;32m   1127\u001b[0m     keep_default_na\u001b[39m=\u001b[39;49mkeep_default_na,\n\u001b[1;32m   1128\u001b[0m     displayed_only\u001b[39m=\u001b[39;49mdisplayed_only,\n\u001b[1;32m   1129\u001b[0m )\n",
                        "File \u001b[0;32m~/.local/lib/python3.11/site-packages/pandas/io/html.py:915\u001b[0m, in \u001b[0;36m_parse\u001b[0;34m(flavor, io, match, attrs, encoding, displayed_only, **kwargs)\u001b[0m\n\u001b[1;32m    913\u001b[0m retained \u001b[39m=\u001b[39m \u001b[39mNone\u001b[39;00m\n\u001b[1;32m    914\u001b[0m \u001b[39mfor\u001b[39;00m flav \u001b[39min\u001b[39;00m flavor:\n\u001b[0;32m--> 915\u001b[0m     parser \u001b[39m=\u001b[39m _parser_dispatch(flav)\n\u001b[1;32m    916\u001b[0m     p \u001b[39m=\u001b[39m parser(io, compiled_match, attrs, encoding, displayed_only)\n\u001b[1;32m    918\u001b[0m     \u001b[39mtry\u001b[39;00m:\n",
                        "File \u001b[0;32m~/.local/lib/python3.11/site-packages/pandas/io/html.py:872\u001b[0m, in \u001b[0;36m_parser_dispatch\u001b[0;34m(flavor)\u001b[0m\n\u001b[1;32m    870\u001b[0m \u001b[39melse\u001b[39;00m:\n\u001b[1;32m    871\u001b[0m     \u001b[39mif\u001b[39;00m \u001b[39mnot\u001b[39;00m _HAS_LXML:\n\u001b[0;32m--> 872\u001b[0m         \u001b[39mraise\u001b[39;00m \u001b[39mImportError\u001b[39;00m(\u001b[39m\"\u001b[39m\u001b[39mlxml not found, please install it\u001b[39m\u001b[39m\"\u001b[39m)\n\u001b[1;32m    873\u001b[0m \u001b[39mreturn\u001b[39;00m _valid_parsers[flavor]\n",
                        "\u001b[0;31mImportError\u001b[0m: lxml not found, please install it"
                    ]
                }
            ],
            "source": [
                "#finding all tables about Tesla's financial performance\n",
                "all_tables = tesla_raw.find_all(\"table\")\n",
                "\n",
                "#finding quarterly evolution table of Tesla's revenue\n",
                "for table in all_tables:\n",
                "    if 'Tesla Quarterly Revenue' in table.get_text():\n",
                "      tesla_data=table\n",
                "      break #stops the code once it finds the table\n",
                "\n",
                "#storing result as dataframe\n",
                "tesla_qrev=pd.read_html(str(tesla_data))[0]\n",
                "tesla_qrev.columns=['quater', 'revenue'] #renames columns\n",
                "tesla_qrev['quater']=pd.to_datetime(tesla_qrev['quater']) #sets date format\n",
                "tesla_qrev['revenue']=tesla_qrev['revenue'].str.replace('[\\$,]','', regex=True).astype(float) #removes $ and , \n",
                "\n",
                "tesla_qrev"
            ]
        },
        {
            "cell_type": "code",
            "execution_count": null,
            "metadata": {},
            "outputs": [],
            "source": [
                "import sqlite3\n",
                "\n",
                "con = sqlite3.connect(\"tesla_qrev.db\")\n",
                "cursor=con.cursor()\n",
                "\n",
                "cursor.execute(\"\"\"CREATE TABLE IF NOT EXISTS TESLA\n",
                "    (quater        DATE    NOT NULL,\n",
                "     revenuq         FLOAT)\"\"\")\n",
                "\n",
                "tesla_qrev.to_sql('TESLA', con, index=False, if_exists='replace')\n",
                "\n",
                "#Checking the table was created properly\n",
                "for row in cursor.execute(\"SELECT * FROM TESLA\"):\n",
                "    print(row)\n",
                "\n",
                "con.commit()\n",
                "con.close"
            ]
        }
    ],
    "metadata": {
        "kernelspec": {
            "display_name": "Python 3.8.13 64-bit ('3.8.13')",
            "language": "python",
            "name": "python3"
        },
        "language_info": {
            "codemirror_mode": {
                "name": "ipython",
                "version": 3
            },
            "file_extension": ".py",
            "mimetype": "text/x-python",
            "name": "python",
            "nbconvert_exporter": "python",
            "pygments_lexer": "ipython3",
            "version": "3.11.4"
        },
        "orig_nbformat": 4,
        "vscode": {
            "interpreter": {
                "hash": "110cc1dee26208153f2972f08a2ad52b6a56238dc66d48e87fb757ef2996db56"
            }
        }
    },
    "nbformat": 4,
    "nbformat_minor": 2
}
